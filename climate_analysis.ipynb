{
 "cells": [
  {
   "cell_type": "code",
   "execution_count": 61,
   "metadata": {
    "collapsed": true
   },
   "outputs": [],
   "source": [
    "import pandas as pd\n",
    "import numpy as np\n",
    "import seaborn as sas\n",
    "import matplotlib.pyplot as pyp\n",
    "import sqlalchemy\n",
    "import datetime\n",
    "from sqlalchemy.ext.automap import automap_base\n",
    "from sqlalchemy.ext.declarative import declarative_base\n",
    "from sqlalchemy import Column, Integer, String, Float\n",
    "from sqlalchemy.orm import Session\n",
    "from sqlalchemy import create_engine, func, or_, and_\n",
    "from sqlalchemy_utils import database_exists, create_database\n",
    "Base = automap_base()\n",
    "sas.set()"
   ]
  },
  {
   "cell_type": "code",
   "execution_count": 2,
   "metadata": {},
   "outputs": [],
   "source": [
    "engine = create_engine('sqlite:///resources/hawaii.sqlite')\n",
    "\n",
    "if not database_exists(engine.url):\n",
    "    create_database(engine.url)\n",
    "conn = engine.connect()"
   ]
  },
  {
   "cell_type": "code",
   "execution_count": 3,
   "metadata": {},
   "outputs": [
    {
     "name": "stdout",
     "output_type": "stream",
     "text": [
      "['measurements', 'stations']\n"
     ]
    }
   ],
   "source": [
    "# Create the garbage_collection table within the database\n",
    "Base.prepare(engine,reflect=True)\n",
    "print(Base.classes.keys())\n",
    "# To push the objects made and query the server we use a Session object\n",
    "\n",
    "session = Session(bind=engine)"
   ]
  },
  {
   "cell_type": "code",
   "execution_count": 4,
   "metadata": {
    "collapsed": true
   },
   "outputs": [],
   "source": [
    "measurements = Base.classes.measurements\n",
    "stations = Base.classes.stations"
   ]
  },
  {
   "cell_type": "code",
   "execution_count": 69,
   "metadata": {},
   "outputs": [
    {
     "ename": "TypeError",
     "evalue": "'DeclarativeMeta' object is not iterable",
     "output_type": "error",
     "traceback": [
      "\u001b[1;31m---------------------------------------------------------------------------\u001b[0m",
      "\u001b[1;31mTypeError\u001b[0m                                 Traceback (most recent call last)",
      "\u001b[1;32m<ipython-input-69-06ef1af37a01>\u001b[0m in \u001b[0;36m<module>\u001b[1;34m()\u001b[0m\n\u001b[1;32m----> 1\u001b[1;33m \u001b[1;32mfor\u001b[0m \u001b[0mx\u001b[0m \u001b[1;32min\u001b[0m \u001b[0mmeasurements\u001b[0m\u001b[1;33m:\u001b[0m \u001b[0mprint\u001b[0m\u001b[1;33m(\u001b[0m\u001b[0mx\u001b[0m\u001b[1;33m)\u001b[0m\u001b[1;33m\u001b[0m\u001b[0m\n\u001b[0m",
      "\u001b[1;31mTypeError\u001b[0m: 'DeclarativeMeta' object is not iterable"
     ]
    }
   ],
   "source": []
  },
  {
   "cell_type": "code",
   "execution_count": 7,
   "metadata": {},
   "outputs": [
    {
     "data": {
      "text/plain": [
       "{'_sa_instance_state': <sqlalchemy.orm.state.InstanceState at 0x1de4874f710>,\n",
       " 'alt': 3.0,\n",
       " 'lat': 21.2716,\n",
       " 'lon': -157.8168,\n",
       " 'station_id': 'USC00519397',\n",
       " 'station_name': 'WAIKIKI 717.2, HI US'}"
      ]
     },
     "execution_count": 7,
     "metadata": {},
     "output_type": "execute_result"
    }
   ],
   "source": [
    "first_row = session.query(stations).first()\n",
    "first_row.__dict__"
   ]
  },
  {
   "cell_type": "code",
   "execution_count": 12,
   "metadata": {},
   "outputs": [],
   "source": [
    "now = datetime.datetime.today()\n",
    "strnow = now.strftime('%Y-%m-%d')\n",
    "then = now-datetime.timedelta(weeks=52)\n",
    "strthen = then.strftime('%Y-%m-%d')"
   ]
  },
  {
   "cell_type": "code",
   "execution_count": 27,
   "metadata": {},
   "outputs": [],
   "source": [
    "def timewarp(newdt=datetime.datetime.today()):\n",
    "    now = newdt\n",
    "    strnow = now.strftime('%Y-%m-%d')\n",
    "    then = now-datetime.timedelta(weeks=52)\n",
    "    strthen = then.strftime('%Y-%m-%d')\n",
    "    return (strnow, strthen)"
   ]
  },
  {
   "cell_type": "code",
   "execution_count": 56,
   "metadata": {},
   "outputs": [],
   "source": [
    "def lastTwelveMonths():\n",
    "    retTuple = timewarp()\n",
    "    q1 = session.query(measurements).filter(measurements.precip!=None)\n",
    "    return q1.filter(and_(measurements.date<= retTuple[0],measurements.date>=retTuple[1]))"
   ]
  },
  {
   "cell_type": "code",
   "execution_count": 97,
   "metadata": {},
   "outputs": [
    {
     "data": {
      "image/png": "[encoded data removed]",
      "text/plain": [
       "<matplotlib.figure.Figure at 0x1de4b915828>"
      ]
     },
     "metadata": {},
     "output_type": "display_data"
    },
    {
     "data": {
      "text/html": [
       "<div>\n",
       "<style>\n",
       "    .dataframe thead tr:only-child th {\n",
       "        text-align: right;\n",
       "    }\n",
       "\n",
       "    .dataframe thead th {\n",
       "        text-align: left;\n",
       "    }\n",
       "\n",
       "    .dataframe tbody tr th {\n",
       "        vertical-align: top;\n",
       "    }\n",
       "</style>\n",
       "<table border=\"1\" class=\"dataframe\">\n",
       "  <thead>\n",
       "    <tr style=\"text-align: right;\">\n",
       "      <th></th>\n",
       "      <th>precip</th>\n",
       "    </tr>\n",
       "  </thead>\n",
       "  <tbody>\n",
       "    <tr>\n",
       "      <th>count</th>\n",
       "      <td>1077.000000</td>\n",
       "    </tr>\n",
       "    <tr>\n",
       "      <th>mean</th>\n",
       "      <td>0.184104</td>\n",
       "    </tr>\n",
       "    <tr>\n",
       "      <th>std</th>\n",
       "      <td>0.477664</td>\n",
       "    </tr>\n",
       "    <tr>\n",
       "      <th>min</th>\n",
       "      <td>0.000000</td>\n",
       "    </tr>\n",
       "    <tr>\n",
       "      <th>25%</th>\n",
       "      <td>0.000000</td>\n",
       "    </tr>\n",
       "    <tr>\n",
       "      <th>50%</th>\n",
       "      <td>0.010000</td>\n",
       "    </tr>\n",
       "    <tr>\n",
       "      <th>75%</th>\n",
       "      <td>0.130000</td>\n",
       "    </tr>\n",
       "    <tr>\n",
       "      <th>max</th>\n",
       "      <td>6.250000</td>\n",
       "    </tr>\n",
       "  </tbody>\n",
       "</table>\n",
       "</div>"
      ],
      "text/plain": [
       "            precip\n",
       "count  1077.000000\n",
       "mean      0.184104\n",
       "std       0.477664\n",
       "min       0.000000\n",
       "25%       0.000000\n",
       "50%       0.010000\n",
       "75%       0.130000\n",
       "max       6.250000"
      ]
     },
     "execution_count": 97,
     "metadata": {},
     "output_type": "execute_result"
    }
   ],
   "source": [
    "queryAnswer = lastTwelveMonths()\n",
    "df1 = pd.read_sql(queryAnswer.statement,queryAnswer.session.bind)\n",
    "df1 = df1[['date','precip']]\n",
    "df1.set_index('date',inplace=True)\n",
    "df1.plot()\n",
    "pyp.show()\n",
    "\n",
    "df1.describe()"
   ]
  },
  {
   "cell_type": "markdown",
   "metadata": {},
   "source": [
    "Station analysis"
   ]
  },
  {
   "cell_type": "code",
   "execution_count": 65,
   "metadata": {},
   "outputs": [
    {
     "data": {
      "text/plain": [
       "9"
      ]
     },
     "execution_count": 65,
     "metadata": {},
     "output_type": "execute_result"
    }
   ],
   "source": [
    "session.query(stations).count()"
   ]
  },
  {
   "cell_type": "code",
   "execution_count": 102,
   "metadata": {},
   "outputs": [
    {
     "name": "stdout",
     "output_type": "stream",
     "text": [
      "[('WAIHEE 837.5, HI US', 'USC00519281', 2772), ('WAIKIKI 717.2, HI US', 'USC00519397', 2724), ('KANEOHE 838.1, HI US', 'USC00513117', 2709), ('WAIMANALO EXPERIMENTAL FARM, HI US', 'USC00519523', 2669), ('MANOA LYON ARBO 785.2, HI US', 'USC00516128', 2612), ('KUALOA RANCH HEADQUARTERS 886.9, HI US', 'USC00514830', 2202), ('HONOLULU OBSERVATORY 702.2, HI US', 'USC00511918', 1979), ('PEARL CITY, HI US', 'USC00517948', 1372), ('UPPER WAHIAWA 874.3, HI US', 'USC00518838', 511)]\n",
      "WAIHEE 837.5, HI US  had highest obvs cnt\n"
     ]
    }
   ],
   "source": [
    "all_items=[]\n",
    "for row in session.query(measurements.station_id,func.count(measurements.station_id)).group_by(measurements.station_id).order_by(func.count(measurements.station_id).desc()):\n",
    "    all_items.append((session.query(stations.station_name).filter(stations.station_id==row[0]).first()[0],row[0],row[1]))\n",
    "print(all_items)\n",
    "print(all_items[0][0],' had highest obvs cnt')"
   ]
  },
  {
   "cell_type": "code",
   "execution_count": 75,
   "metadata": {},
   "outputs": [
    {
     "data": {
      "text/plain": [
       "<sqlalchemy.sql.functions.count at 0x1de4b83d358; count>"
      ]
     },
     "execution_count": 75,
     "metadata": {},
     "output_type": "execute_result"
    }
   ],
   "source": [
    "func.count(measurements.station_id)"
   ]
  },
  {
   "cell_type": "code",
   "execution_count": 103,
   "metadata": {},
   "outputs": [
    {
     "data": {
      "image/png": "[encoded data removed]",
      "text/plain": [
       "<matplotlib.figure.Figure at 0x1de4ba2fa90>"
      ]
     },
     "metadata": {},
     "output_type": "display_data"
    },
    {
     "data": {
      "text/html": [
       "<div>\n",
       "<style>\n",
       "    .dataframe thead tr:only-child th {\n",
       "        text-align: right;\n",
       "    }\n",
       "\n",
       "    .dataframe thead th {\n",
       "        text-align: left;\n",
       "    }\n",
       "\n",
       "    .dataframe tbody tr th {\n",
       "        vertical-align: top;\n",
       "    }\n",
       "</style>\n",
       "<table border=\"1\" class=\"dataframe\">\n",
       "  <thead>\n",
       "    <tr style=\"text-align: right;\">\n",
       "      <th></th>\n",
       "      <th>temp</th>\n",
       "    </tr>\n",
       "  </thead>\n",
       "  <tbody>\n",
       "    <tr>\n",
       "      <th>count</th>\n",
       "      <td>1077.000000</td>\n",
       "    </tr>\n",
       "    <tr>\n",
       "      <th>mean</th>\n",
       "      <td>74.892293</td>\n",
       "    </tr>\n",
       "    <tr>\n",
       "      <th>std</th>\n",
       "      <td>4.552820</td>\n",
       "    </tr>\n",
       "    <tr>\n",
       "      <th>min</th>\n",
       "      <td>58.000000</td>\n",
       "    </tr>\n",
       "    <tr>\n",
       "      <th>25%</th>\n",
       "      <td>72.000000</td>\n",
       "    </tr>\n",
       "    <tr>\n",
       "      <th>50%</th>\n",
       "      <td>76.000000</td>\n",
       "    </tr>\n",
       "    <tr>\n",
       "      <th>75%</th>\n",
       "      <td>78.000000</td>\n",
       "    </tr>\n",
       "    <tr>\n",
       "      <th>max</th>\n",
       "      <td>87.000000</td>\n",
       "    </tr>\n",
       "  </tbody>\n",
       "</table>\n",
       "</div>"
      ],
      "text/plain": [
       "              temp\n",
       "count  1077.000000\n",
       "mean     74.892293\n",
       "std       4.552820\n",
       "min      58.000000\n",
       "25%      72.000000\n",
       "50%      76.000000\n",
       "75%      78.000000\n",
       "max      87.000000"
      ]
     },
     "execution_count": 103,
     "metadata": {},
     "output_type": "execute_result"
    }
   ],
   "source": [
    "queryAnswer = lastTwelveMonths()\n",
    "df2 = pd.read_sql(queryAnswer.statement,queryAnswer.session.bind)\n",
    "df3 = df2[['date','temp']]\n",
    "df3.set_index('date',inplace=True)\n",
    "df3.plot()\n",
    "pyp.show()\n",
    "\n",
    "df3.describe()"
   ]
  },
  {
   "cell_type": "code",
   "execution_count": 122,
   "metadata": {},
   "outputs": [
    {
     "data": {
      "text/plain": [
       "0      72\n",
       "1      73\n",
       "2      76\n",
       "3      64\n",
       "4      62\n",
       "196    67\n",
       "197    75\n",
       "198    74\n",
       "199    67\n",
       "200    67\n",
       "374    77\n",
       "375    76\n",
       "376    67\n",
       "377    71\n",
       "378    73\n",
       "517    67\n",
       "518    64\n",
       "519    64\n",
       "520    64\n",
       "521    76\n",
       "551    76\n",
       "552    77\n",
       "553    76\n",
       "554    72\n",
       "555    74\n",
       "719    70\n",
       "720    73\n",
       "721    75\n",
       "722    64\n",
       "723    59\n",
       "906    69\n",
       "907    73\n",
       "908    68\n",
       "909    68\n",
       "910    64\n",
       "Name: temp, dtype: int64"
      ]
     },
     "execution_count": 122,
     "metadata": {},
     "output_type": "execute_result"
    }
   ],
   "source": [
    "df2.groupby('station_id')['temp'].head()"
   ]
  },
  {
   "cell_type": "code",
   "execution_count": 179,
   "metadata": {},
   "outputs": [],
   "source": []
  },
  {
   "cell_type": "code",
   "execution_count": 180,
   "metadata": {},
   "outputs": [
    {
     "data": {
      "text/html": [
       "<div>\n",
       "<style>\n",
       "    .dataframe thead tr:only-child th {\n",
       "        text-align: right;\n",
       "    }\n",
       "\n",
       "    .dataframe thead th {\n",
       "        text-align: left;\n",
       "    }\n",
       "\n",
       "    .dataframe tbody tr th {\n",
       "        vertical-align: top;\n",
       "    }\n",
       "</style>\n",
       "<table border=\"1\" class=\"dataframe\">\n",
       "  <thead>\n",
       "    <tr style=\"text-align: right;\">\n",
       "      <th></th>\n",
       "      <th>date</th>\n",
       "      <th>temp</th>\n",
       "    </tr>\n",
       "  </thead>\n",
       "  <tbody>\n",
       "    <tr>\n",
       "      <th>719</th>\n",
       "      <td>2017-02-04</td>\n",
       "      <td>70</td>\n",
       "    </tr>\n",
       "    <tr>\n",
       "      <th>720</th>\n",
       "      <td>2017-02-05</td>\n",
       "      <td>73</td>\n",
       "    </tr>\n",
       "    <tr>\n",
       "      <th>721</th>\n",
       "      <td>2017-02-06</td>\n",
       "      <td>75</td>\n",
       "    </tr>\n",
       "    <tr>\n",
       "      <th>722</th>\n",
       "      <td>2017-02-07</td>\n",
       "      <td>64</td>\n",
       "    </tr>\n",
       "    <tr>\n",
       "      <th>723</th>\n",
       "      <td>2017-02-08</td>\n",
       "      <td>59</td>\n",
       "    </tr>\n",
       "  </tbody>\n",
       "</table>\n",
       "</div>"
      ],
      "text/plain": [
       "           date  temp\n",
       "719  2017-02-04    70\n",
       "720  2017-02-05    73\n",
       "721  2017-02-06    75\n",
       "722  2017-02-07    64\n",
       "723  2017-02-08    59"
      ]
     },
     "execution_count": 180,
     "metadata": {},
     "output_type": "execute_result"
    }
   ],
   "source": [
    "df4.head()"
   ]
  },
  {
   "cell_type": "code",
   "execution_count": 190,
   "metadata": {},
   "outputs": [
    {
     "data": {
      "image/png": "[encoded data removed]",
      "text/plain": [
       "<matplotlib.figure.Figure at 0x1de4b6d7390>"
      ]
     },
     "metadata": {},
     "output_type": "display_data"
    }
   ],
   "source": [
    " df4 = df2.loc[lambda row: row['station_id']==all_items[0][1],:][['date','temp']]#.set_index('date')\n",
    "df4['date']=df4['date'].apply(lambda x:int (datetime.datetime.strptime(x,'%Y-%m-%d').strftime('%m')))\n",
    "df4.hist(column='temp',bins=12)\n",
    "pyp.show()"
   ]
  },
  {
   "cell_type": "code",
   "execution_count": 192,
   "metadata": {
    "collapsed": true
   },
   "outputs": [],
   "source": [
    "def calc_temps(date1, date2):\n",
    "    retTuple = timewarp()\n",
    "    now = datetime.datetime.strptime(date1,'%Y-%m-%d')\n",
    "    strnow = now.strftime('%Y-%m-%d')\n",
    "    then = datetime.datetime.strptime(date2,'%Y-%m-%d')\n",
    "    strthen = then.strftime('%Y-%m-%d')\n",
    "    retTuple = (strnow, strthen)\n",
    "    q1 = session.query(measurements).filter(measurements.temp!=None)\n",
    "    q2 = q1.filter(and_(measurements.date<= retTuple[0],measurements.date>=retTuple[1]))\n",
    "    df9 = pd.read_sql(q2.statement,q2.session.bind)\n",
    "    return (df9, df9['temp'].mean(),df9['temp'].max(),df9['temp'].min())\n",
    "    "
   ]
  },
  {
   "cell_type": "code",
   "execution_count": 193,
   "metadata": {},
   "outputs": [
    {
     "data": {
      "text/plain": [
       "(         id   station_id        date  precip  temp\n",
       " 0      2526  USC00519397  2017-02-02    0.00    61\n",
       " 1      2527  USC00519397  2017-02-03    0.00    65\n",
       " 2      2528  USC00519397  2017-02-04    0.00    72\n",
       " 3      2529  USC00519397  2017-02-05    0.00    73\n",
       " 4      2530  USC00519397  2017-02-06    0.00    76\n",
       " 5      2531  USC00519397  2017-02-07    0.51    64\n",
       " 6      2532  USC00519397  2017-02-08    0.00    62\n",
       " 7      2533  USC00519397  2017-02-09    0.00    61\n",
       " 8      2534  USC00519397  2017-02-10    0.00    71\n",
       " 9      2535  USC00519397  2017-02-11    0.31    69\n",
       " 10     2536  USC00519397  2017-02-12    2.62    68\n",
       " 11     2537  USC00519397  2017-02-13    0.01    74\n",
       " 12     2538  USC00519397  2017-02-14    0.00    75\n",
       " 13     2539  USC00519397  2017-02-15    0.00    75\n",
       " 14     2540  USC00519397  2017-02-16    0.07    71\n",
       " 15     2541  USC00519397  2017-02-17    0.00    71\n",
       " 16     2542  USC00519397  2017-02-18    0.00    68\n",
       " 17     2543  USC00519397  2017-02-19    0.00    69\n",
       " 18     2544  USC00519397  2017-02-20    0.00    71\n",
       " 19     2545  USC00519397  2017-02-21    0.06    70\n",
       " 20     2546  USC00519397  2017-02-22    0.06    72\n",
       " 21     2547  USC00519397  2017-02-23    0.01    74\n",
       " 22     2548  USC00519397  2017-02-24    0.00    70\n",
       " 23     2549  USC00519397  2017-02-25    0.03    64\n",
       " 24     2550  USC00519397  2017-02-26    0.00    65\n",
       " 25     2551  USC00519397  2017-02-27    0.00    72\n",
       " 26     2552  USC00519397  2017-02-28    0.00    74\n",
       " 27     2553  USC00519397  2017-03-01    1.19    66\n",
       " 28     2554  USC00519397  2017-03-02    0.73    73\n",
       " 29     2555  USC00519397  2017-03-03    0.47    69\n",
       " ...     ...          ...         ...     ...   ...\n",
       " 1169  19520  USC00516128  2017-07-24    0.84    77\n",
       " 1170  19521  USC00516128  2017-07-25    0.30    79\n",
       " 1171  19522  USC00516128  2017-07-26    0.30    73\n",
       " 1172  19523  USC00516128  2017-07-27    0.00    75\n",
       " 1173  19524  USC00516128  2017-07-28    0.40    73\n",
       " 1174  19525  USC00516128  2017-07-29    0.30    77\n",
       " 1175  19526  USC00516128  2017-07-30    0.30    79\n",
       " 1176  19527  USC00516128  2017-07-31    0.00    74\n",
       " 1177  19528  USC00516128  2017-08-01     NaN    72\n",
       " 1178  19529  USC00516128  2017-08-02    0.25    80\n",
       " 1179  19530  USC00516128  2017-08-03    0.06    76\n",
       " 1180  19531  USC00516128  2017-08-05     NaN    77\n",
       " 1181  19532  USC00516128  2017-08-06     NaN    79\n",
       " 1182  19533  USC00516128  2017-08-07    0.05    78\n",
       " 1183  19534  USC00516128  2017-08-08    0.34    74\n",
       " 1184  19535  USC00516128  2017-08-09    0.15    71\n",
       " 1185  19536  USC00516128  2017-08-10    0.07    75\n",
       " 1186  19537  USC00516128  2017-08-11     NaN    72\n",
       " 1187  19538  USC00516128  2017-08-12    0.14    74\n",
       " 1188  19539  USC00516128  2017-08-13     NaN    80\n",
       " 1189  19540  USC00516128  2017-08-14    0.22    79\n",
       " 1190  19541  USC00516128  2017-08-15    0.42    70\n",
       " 1191  19542  USC00516128  2017-08-16    0.42    71\n",
       " 1192  19543  USC00516128  2017-08-17    0.13    72\n",
       " 1193  19544  USC00516128  2017-08-18     NaN    76\n",
       " 1194  19545  USC00516128  2017-08-19    0.09    71\n",
       " 1195  19546  USC00516128  2017-08-20     NaN    78\n",
       " 1196  19547  USC00516128  2017-08-21    0.56    76\n",
       " 1197  19548  USC00516128  2017-08-22    0.50    76\n",
       " 1198  19549  USC00516128  2017-08-23    0.45    76\n",
       " \n",
       " [1199 rows x 5 columns], 74.88907422852377, 87, 58)"
      ]
     },
     "execution_count": 193,
     "metadata": {},
     "output_type": "execute_result"
    }
   ],
   "source": [
    "calc_temps('2018-02-02','2017-02-02')"
   ]
  },
  {
   "cell_type": "code",
   "execution_count": 205,
   "metadata": {},
   "outputs": [],
   "source": [
    "def plot_temps(date1,date2):\n",
    "    curTup =calc_temps(date1,date2)\n",
    "    pyp.bar('temp',curTup[1],yerr=(curTup[2]-curTup[3])/2)\n",
    "    pyp.show()"
   ]
  },
  {
   "cell_type": "code",
   "execution_count": 206,
   "metadata": {},
   "outputs": [
    {
     "data": {
      "image/png": "[encoded data removed]",
      "text/plain": [
       "<matplotlib.figure.Figure at 0x1de4ccaea20>"
      ]
     },
     "metadata": {},
     "output_type": "display_data"
    }
   ],
   "source": [
    "plot_temps('2018-02-02','2017-02-02')"
   ]
  },
  {
   "cell_type": "code",
   "execution_count": null,
   "metadata": {
    "collapsed": true
   },
   "outputs": [],
   "source": []
  }
 ],
 "metadata": {
  "kernelspec": {
   "display_name": "Python [conda env:PythonData]",
   "language": "python",
   "name": "conda-env-PythonData-py"
  },
  "language_info": {
   "codemirror_mode": {
    "name": "ipython",
    "version": 3
   },
   "file_extension": ".py",
   "mimetype": "text/x-python",
   "name": "python",
   "nbconvert_exporter": "python",
   "pygments_lexer": "ipython3",
   "version": "3.6.3"
  }
 },
 "nbformat": 4,
 "nbformat_minor": 2
}
